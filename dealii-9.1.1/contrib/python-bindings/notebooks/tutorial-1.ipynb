{
 "cells": [
  {
   "cell_type": "markdown",
   "metadata": {},
   "source": [
    "# Tutorial-1\n",
    "\n",
    "The first thing to do to use the python wrappers is to import the package. **PyDealII** is only a shell and importing it will only allow you to call\n",
    "```python \n",
    "help(PyDealII)\n",
    "``` \n",
    "**PyDealII** is composed of two libraries: \n",
    " - **PyDealII.Debug** which uses the debug version of **deal.II**\n",
    " - **PyDealII.Release** which uses the release version of **deal.II**\n",
    " \n",
    "In this tutorial, we import the debug version of the library as **dealii**."
   ]
  },
  {
   "cell_type": "code",
   "execution_count": 1,
   "metadata": {},
   "outputs": [],
   "source": [
    "%matplotlib inline\n",
    "import PyDealII.Debug as dealii"
   ]
  },
  {
   "cell_type": "markdown",
   "metadata": {},
   "source": [
    "We start by creating a 2D **Triangulation** of an hyper cube and we globally refine it twice. You can read the documentation of **Triangulation** by typing:\n",
    "```python\n",
    "help(dealii.Triangulation)\n",
    "```\n",
    "This will show you all the functions associated with **Triangulation** and for each one, you will get a short explanation."
   ]
  },
  {
   "cell_type": "code",
   "execution_count": 2,
   "metadata": {},
   "outputs": [],
   "source": [
    "triangulation = dealii.Triangulation('2D')\n",
    "triangulation.generate_hyper_cube()\n",
    "triangulation.refine_global(2)"
   ]
  },
  {
   "cell_type": "markdown",
   "metadata": {},
   "source": [
    "Now we would like to visualize the mesh that has been created. We can output a _vtu_ file using\n",
    "```python\n",
    "triangulation.write('triangulation.vtu', 'vtu')\n",
    "```\n",
    "and then use VisIt or Paraview. This is probably what you want to do for a 3D **Triangulation**. However, in this tutorial, we will create a function to plot the result using matplotlib. This will allow us to look at the mesh inside the notebook. To do that we will use _matplotlib_ and _numpy_."
   ]
  },
  {
   "cell_type": "code",
   "execution_count": 3,
   "metadata": {},
   "outputs": [],
   "source": [
    "import matplotlib.pyplot as plt\n",
    "from matplotlib.patches import Polygon\n",
    "from matplotlib.collections import PatchCollection\n",
    "import numpy as np"
   ]
  },
  {
   "cell_type": "markdown",
   "metadata": {},
   "source": [
    "The function below takes as input a **Triangulation** and a function that is used to define the color scheme. In this function, we loop over all the active cells, get the coordinates of the vertices, and use these coordinates to create polygons that we plot. We can loop over the active cells using\n",
    "```python\n",
    "for cell in triangulation.active_cells()\n",
    "```\n",
    "Once we have a cell, we can get any vertex using\n",
    "```python\n",
    "vertex = cell.get_vertex(i)\n",
    "```\n",
    "Since a _vertex_ is a **Point**, we can the coordinates of the **Point** using\n",
    "```python\n",
    "x = vertex.x\n",
    "y = vertex.y\n",
    "z = vertex.z\n",
    "```\n"
   ]
  },
  {
   "cell_type": "code",
   "execution_count": 4,
   "metadata": {},
   "outputs": [],
   "source": [
    "def plot_triangulation(triangulation, color_scheme):\n",
    "    fig, ax = plt.subplots()\n",
    "    patches = []\n",
    "    colors = []\n",
    "    cell_id = 0 \n",
    "    for cell in triangulation.active_cells():\n",
    "        quad_vertices = np.zeros((4,2))\n",
    "        # The shift variable is used to reorder the vertices because\n",
    "        # deal.II and matplotlib require different ordering\n",
    "        shift = [0,1,3,2]\n",
    "        for i in range(4):\n",
    "            vertex = cell.get_vertex(i)\n",
    "            quad_vertices[shift[i]][0] = vertex.x\n",
    "            quad_vertices[shift[i]][1] = vertex.y\n",
    "        quad = Polygon(quad_vertices, closed=True)\n",
    "        patches.append(quad)\n",
    "        colors.append(color_scheme(cell_id, cell))\n",
    "        cell_id += 1\n",
    "    p = PatchCollection(patches)  \n",
    "    p.set_array(np.array(colors))\n",
    "    ax.add_collection(p, autolim=True)\n",
    "    ax.autoscale_view()\n",
    "    plt.show()"
   ]
  },
  {
   "cell_type": "markdown",
   "metadata": {},
   "source": [
    "We know define a color scheme function and plot the **Triangulation**"
   ]
  },
  {
   "cell_type": "code",
   "execution_count": 5,
   "metadata": {},
   "outputs": [
    {
     "data": {
      "image/png": "[encoded data removed]",
      "text/plain": [
       "<matplotlib.figure.Figure at 0x7f9ef4ca20b8>"
      ]
     },
     "metadata": {},
     "output_type": "display_data"
    }
   ],
   "source": [
    "def color_sc(cell_id, cell):\n",
    "    return cell_id\n",
    "\n",
    "plot_triangulation(triangulation, color_sc)"
   ]
  },
  {
   "cell_type": "markdown",
   "metadata": {},
   "source": [
    "Now let's assume that the left half of the domain is composed of a different material than the right half of the domain. We will loop over all the cells and if the abscissa of the cell barycenter is less than 0.5, we will assign zero to the *material_id* of the cell. The others cells will be assigned a *material_id* of one.\n"
   ]
  },
  {
   "cell_type": "code",
   "execution_count": 6,
   "metadata": {},
   "outputs": [
    {
     "data": {
      "image/png": "[encoded data removed]",
      "text/plain": [
       "<matplotlib.figure.Figure at 0x7f9ee871d278>"
      ]
     },
     "metadata": {},
     "output_type": "display_data"
    }
   ],
   "source": [
    "for cell in triangulation.active_cells():\n",
    "    if cell.barycenter().x < 0.5:\n",
    "        cell.material_id = 0\n",
    "    else:\n",
    "        cell.material_id = 1\n",
    "\n",
    "plot_triangulation(triangulation, lambda cell_id,cell :  cell.material_id)"
   ]
  },
  {
   "cell_type": "markdown",
   "metadata": {},
   "source": [
    "We will refine isotropically the cells that have a *material_id* equal to zero and plot the **Triangulation**."
   ]
  },
  {
   "cell_type": "code",
   "execution_count": 7,
   "metadata": {},
   "outputs": [
    {
     "data": {
      "image/png": "[encoded data removed]",
      "text/plain": [
       "<matplotlib.figure.Figure at 0x7f9ee85f5dd8>"
      ]
     },
     "metadata": {},
     "output_type": "display_data"
    }
   ],
   "source": [
    "for cell in triangulation.active_cells():\n",
    "    if cell.material_id == 0:\n",
    "        cell.refine_flag ='isotropic'\n",
    "triangulation.execute_coarsening_and_refinement()\n",
    "\n",
    "plot_triangulation(triangulation, color_sc)"
   ]
  },
  {
   "cell_type": "markdown",
   "metadata": {},
   "source": [
    "We will now show how to merge two **Triangulations**. In order to merge the two **Triangulations**, we will need to move (shift) the second **Triangulation** such that it doesn't overlap with the first one."
   ]
  },
  {
   "cell_type": "code",
   "execution_count": 8,
   "metadata": {},
   "outputs": [
    {
     "data": {
      "image/png": "[encoded data removed]",
      "text/plain": [
       "<matplotlib.figure.Figure at 0x7f9ee8591780>"
      ]
     },
     "metadata": {},
     "output_type": "display_data"
    }
   ],
   "source": [
    "triangulation_2 = dealii.Triangulation('2D')\n",
    "triangulation_2.generate_hyper_cube()\n",
    "triangulation_2.refine_global(2)\n",
    "triangulation_2.shift([2.,0.])\n",
    "\n",
    "plot_triangulation(triangulation_2, color_sc)"
   ]
  },
  {
   "cell_type": "markdown",
   "metadata": {},
   "source": [
    "We are now almost ready to merge the **Triangulations**. However, deal.II does not allow us to merge **Triangulations** that have been refined. We can use the *flatten_triangulation* function to create new **Triangulations** that are not refined but this function does not work if the mesh contains hanging nodes. Thus, we need to modify the first triangulation."
   ]
  },
  {
   "cell_type": "code",
   "execution_count": 9,
   "metadata": {},
   "outputs": [
    {
     "data": {
      "image/png": "[encoded data removed]",
      "text/plain": [
       "<matplotlib.figure.Figure at 0x7f9ee84b3c18>"
      ]
     },
     "metadata": {},
     "output_type": "display_data"
    }
   ],
   "source": [
    "flatten_triangulation_1 = dealii.Triangulation('2D')\n",
    "triangulation.generate_hyper_cube()\n",
    "triangulation.refine_global(2)\n",
    "triangulation.flatten_triangulation(flatten_triangulation_1)\n",
    "flatten_triangulation_2 = dealii.Triangulation('2D')\n",
    "triangulation_2.flatten_triangulation(flatten_triangulation_2)\n",
    "triangulation_3 = dealii.Triangulation('2D')\n",
    "triangulation_3.merge_triangulations(flatten_triangulation_1, flatten_triangulation_2)\n",
    "\n",
    "plot_triangulation(triangulation_3, color_sc)"
   ]
  },
  {
   "cell_type": "markdown",
   "metadata": {},
   "source": [
    "Like expected the second **Triangulation** is moved too far on the right. This mistake can easily fixed by moving *flatten_triangulation_2* to the left and merging the **Triangulations** once again. We can see the advantage of using python over C++. In C++, we would have to recompile and rerun the code while in python we can very easily fix our mistake."
   ]
  },
  {
   "cell_type": "code",
   "execution_count": 10,
   "metadata": {},
   "outputs": [
    {
     "data": {
      "image/png": "[encoded data removed]",
      "text/plain": [
       "<matplotlib.figure.Figure at 0x7f9ee84b3240>"
      ]
     },
     "metadata": {},
     "output_type": "display_data"
    }
   ],
   "source": [
    "flatten_triangulation_2.shift([-1.,0])\n",
    "triangulation_3.merge_triangulations(flatten_triangulation_1, flatten_triangulation_2)\n",
    "\n",
    "plot_triangulation(triangulation_3, color_sc)"
   ]
  },
  {
   "cell_type": "markdown",
   "metadata": {},
   "source": [
    "Now that we are done generating the grid, we need to save it in a format that will make it easy to load in our C++ code. This can  be done using the _save_ function python and then using the _Triangulation::load()_ function in C++. The only caveat is that **parallel::distributed::Triangulation** cannot load a grid which has refined cells. Once again this can be fixed by flattening the **Triangulation** (this is not necessary here)."
   ]
  },
  {
   "cell_type": "code",
   "execution_count": 11,
   "metadata": {},
   "outputs": [],
   "source": [
    "triangulation_3.save('merged_triangulation')"
   ]
  },
  {
   "cell_type": "markdown",
   "metadata": {},
   "source": [
    "The C++ code to load the mesh is\n",
    "```C++\n",
    "triangulation.load('merged_triangulation');\n",
    "```"
   ]
  },
  {
   "cell_type": "markdown",
   "metadata": {},
   "source": [
    "**NOTE**\n",
    "If the C++ code throws an exception, the error message will be shown. However, if the code segfaults then the kernel will simply be killed. In this case, the easiest way to debug your code is to use gdb to find the problem. This can be done by exporting your notebook as a python code and then typing:\n",
    "``` bash\n",
    "gdb python\n",
    "run my_program.py\n",
    "```\n",
    "Below, we show an example of an error message coming from the C++ code."
   ]
  },
  {
   "cell_type": "code",
   "execution_count": 12,
   "metadata": {},
   "outputs": [
    {
     "ename": "RuntimeError",
     "evalue": "\n--------------------------------------------------------\nAn error occurred in line <443> of file </home/jovyan/work/dealii/contrib/python-bindings/source/cell_accessor_wrapper.cc> in function\n    dealii::python::PointWrapper dealii::python::CellAccessorWrapper::get_vertex(int) const\nThe violated condition was: \n    i<std::pow(2,dim)\nAdditional information: \n    Requested vertex number 5 does not exist. The largest vertex number acceptable is 3\n--------------------------------------------------------\n",
     "output_type": "error",
     "traceback": [
      "\u001b[0;31m---------------------------------------------------------------------------\u001b[0m",
      "\u001b[0;31mRuntimeError\u001b[0m                              Traceback (most recent call last)",
      "\u001b[0;32m<ipython-input-12-93dcdab2ba83>\u001b[0m in \u001b[0;36m<module>\u001b[0;34m()\u001b[0m\n\u001b[1;32m      1\u001b[0m \u001b[0;32mfor\u001b[0m \u001b[0mcell\u001b[0m \u001b[0;32min\u001b[0m \u001b[0mtriangulation\u001b[0m\u001b[0;34m.\u001b[0m\u001b[0mactive_cells\u001b[0m\u001b[0;34m(\u001b[0m\u001b[0;34m)\u001b[0m\u001b[0;34m:\u001b[0m\u001b[0;34m\u001b[0m\u001b[0m\n\u001b[0;32m----> 2\u001b[0;31m     \u001b[0mvertex\u001b[0m \u001b[0;34m=\u001b[0m \u001b[0mcell\u001b[0m\u001b[0;34m.\u001b[0m\u001b[0mget_vertex\u001b[0m\u001b[0;34m(\u001b[0m\u001b[0;36m5\u001b[0m\u001b[0;34m)\u001b[0m\u001b[0;34m\u001b[0m\u001b[0m\n\u001b[0m",
      "\u001b[0;31mRuntimeError\u001b[0m: \n--------------------------------------------------------\nAn error occurred in line <443> of file </home/jovyan/work/dealii/contrib/python-bindings/source/cell_accessor_wrapper.cc> in function\n    dealii::python::PointWrapper dealii::python::CellAccessorWrapper::get_vertex(int) const\nThe violated condition was: \n    i<std::pow(2,dim)\nAdditional information: \n    Requested vertex number 5 does not exist. The largest vertex number acceptable is 3\n--------------------------------------------------------\n"
     ]
    }
   ],
   "source": [
    "for cell in triangulation.active_cells():\n",
    "    vertex = cell.get_vertex(5)"
   ]
  }
 ],
 "metadata": {
  "kernelspec": {
   "display_name": "Python 3",
   "language": "python",
   "name": "python3"
  },
  "language_info": {
   "codemirror_mode": {
    "name": "ipython",
    "version": 3
   },
   "file_extension": ".py",
   "mimetype": "text/x-python",
   "name": "python",
   "nbconvert_exporter": "python",
   "pygments_lexer": "ipython3",
   "version": "3.6.3"
  }
 },
 "nbformat": 4,
 "nbformat_minor": 2
}
